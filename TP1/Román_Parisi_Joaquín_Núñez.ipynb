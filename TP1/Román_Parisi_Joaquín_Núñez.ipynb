{
 "cells": [
  {
   "cell_type": "code",
   "execution_count": 480,
   "metadata": {},
   "outputs": [],
   "source": [
    "# Laboratorio de Datos\n",
    "# Trabajo Práctico Nª 1 \n",
    "# Integrantes: Román Parisi y Joaquín Núñez"
   ]
  },
  {
   "cell_type": "code",
   "execution_count": 481,
   "metadata": {},
   "outputs": [],
   "source": [
    "# Importamos las librerías necesarias para el desarrollo del TP:\n",
    "\n",
    "import numpy as np\n",
    "import pandas as pd\n",
    "import seaborn as sns\n",
    "import seaborn.objects as so\n",
    "import datetime # Para poder convertir al tipo datetime en el punto 1a\n",
    "import matplotlib.pyplot as plt\n",
    "\n",
    "from sklearn import linear_model    \n",
    "from sklearn.model_selection import KFold\n",
    "from sklearn.model_selection import train_test_split\n",
    "\n",
    "from formulaic import model_matrix\n",
    "from formulaic import Formula"
   ]
  },
  {
   "cell_type": "code",
   "execution_count": 482,
   "metadata": {},
   "outputs": [
    {
     "data": {
      "text/html": [
       "<div>\n",
       "<style scoped>\n",
       "    .dataframe tbody tr th:only-of-type {\n",
       "        vertical-align: middle;\n",
       "    }\n",
       "\n",
       "    .dataframe tbody tr th {\n",
       "        vertical-align: top;\n",
       "    }\n",
       "\n",
       "    .dataframe thead th {\n",
       "        text-align: right;\n",
       "    }\n",
       "</style>\n",
       "<table border=\"1\" class=\"dataframe\">\n",
       "  <thead>\n",
       "    <tr style=\"text-align: right;\">\n",
       "      <th></th>\n",
       "      <th>DIA_TRANSPORTE</th>\n",
       "      <th>NOMBRE_EMPRESA</th>\n",
       "      <th>LINEA</th>\n",
       "      <th>AMBA</th>\n",
       "      <th>TIPO_TRANSPORTE</th>\n",
       "      <th>JURISDICCION</th>\n",
       "      <th>PROVINCIA</th>\n",
       "      <th>MUNICIPIO</th>\n",
       "      <th>CANTIDAD</th>\n",
       "      <th>DATO_PRELIMINAR</th>\n",
       "    </tr>\n",
       "  </thead>\n",
       "  <tbody>\n",
       "    <tr>\n",
       "      <th>0</th>\n",
       "      <td>2023-01-01</td>\n",
       "      <td>MUNICIPALIDAD DE MERCEDES PROVINCIA DE BUENOS ...</td>\n",
       "      <td>1</td>\n",
       "      <td>SI</td>\n",
       "      <td>COLECTIVO</td>\n",
       "      <td>MUNICIPAL</td>\n",
       "      <td>BUENOS AIRES</td>\n",
       "      <td>MERCEDES</td>\n",
       "      <td>61</td>\n",
       "      <td>NO</td>\n",
       "    </tr>\n",
       "    <tr>\n",
       "      <th>1</th>\n",
       "      <td>2023-01-01</td>\n",
       "      <td>MUNICIPALIDAD DE MERCEDES PROVINCIA DE BUENOS ...</td>\n",
       "      <td>2B</td>\n",
       "      <td>SI</td>\n",
       "      <td>COLECTIVO</td>\n",
       "      <td>MUNICIPAL</td>\n",
       "      <td>BUENOS AIRES</td>\n",
       "      <td>MERCEDES</td>\n",
       "      <td>11</td>\n",
       "      <td>NO</td>\n",
       "    </tr>\n",
       "    <tr>\n",
       "      <th>2</th>\n",
       "      <td>2023-01-01</td>\n",
       "      <td>EMPRESA BATAN S.A.</td>\n",
       "      <td>BS_AS_LINEA 715M</td>\n",
       "      <td>NO</td>\n",
       "      <td>COLECTIVO</td>\n",
       "      <td>MUNICIPAL</td>\n",
       "      <td>BUENOS AIRES</td>\n",
       "      <td>GENERAL PUEYRREDON</td>\n",
       "      <td>1707</td>\n",
       "      <td>NO</td>\n",
       "    </tr>\n",
       "    <tr>\n",
       "      <th>3</th>\n",
       "      <td>2023-01-01</td>\n",
       "      <td>COMPAÑIA  DE TRANSPORTE VECINAL S.A.</td>\n",
       "      <td>BS_AS_LINEA_326</td>\n",
       "      <td>SI</td>\n",
       "      <td>COLECTIVO</td>\n",
       "      <td>PROVINCIAL</td>\n",
       "      <td>BUENOS AIRES</td>\n",
       "      <td>SN</td>\n",
       "      <td>438</td>\n",
       "      <td>NO</td>\n",
       "    </tr>\n",
       "    <tr>\n",
       "      <th>4</th>\n",
       "      <td>2023-01-01</td>\n",
       "      <td>EMPRESA DE TRANSPORTE PERALTA RAMOS SACI</td>\n",
       "      <td>BS_AS_LINEA_512</td>\n",
       "      <td>NO</td>\n",
       "      <td>COLECTIVO</td>\n",
       "      <td>MUNICIPAL</td>\n",
       "      <td>BUENOS AIRES</td>\n",
       "      <td>GENERAL PUEYRREDON</td>\n",
       "      <td>1189</td>\n",
       "      <td>NO</td>\n",
       "    </tr>\n",
       "  </tbody>\n",
       "</table>\n",
       "</div>"
      ],
      "text/plain": [
       "  DIA_TRANSPORTE                                     NOMBRE_EMPRESA  \\\n",
       "0     2023-01-01  MUNICIPALIDAD DE MERCEDES PROVINCIA DE BUENOS ...   \n",
       "1     2023-01-01  MUNICIPALIDAD DE MERCEDES PROVINCIA DE BUENOS ...   \n",
       "2     2023-01-01                                 EMPRESA BATAN S.A.   \n",
       "3     2023-01-01               COMPAÑIA  DE TRANSPORTE VECINAL S.A.   \n",
       "4     2023-01-01           EMPRESA DE TRANSPORTE PERALTA RAMOS SACI   \n",
       "\n",
       "              LINEA AMBA TIPO_TRANSPORTE JURISDICCION     PROVINCIA  \\\n",
       "0                 1   SI       COLECTIVO    MUNICIPAL  BUENOS AIRES   \n",
       "1                2B   SI       COLECTIVO    MUNICIPAL  BUENOS AIRES   \n",
       "2  BS_AS_LINEA 715M   NO       COLECTIVO    MUNICIPAL  BUENOS AIRES   \n",
       "3   BS_AS_LINEA_326   SI       COLECTIVO   PROVINCIAL  BUENOS AIRES   \n",
       "4   BS_AS_LINEA_512   NO       COLECTIVO    MUNICIPAL  BUENOS AIRES   \n",
       "\n",
       "            MUNICIPIO  CANTIDAD DATO_PRELIMINAR  \n",
       "0            MERCEDES        61              NO  \n",
       "1            MERCEDES        11              NO  \n",
       "2  GENERAL PUEYRREDON      1707              NO  \n",
       "3                  SN       438              NO  \n",
       "4  GENERAL PUEYRREDON      1189              NO  "
      ]
     },
     "execution_count": 482,
     "metadata": {},
     "output_type": "execute_result"
    }
   ],
   "source": [
    "# Accedemos al dataset y lo observamos\n",
    "\n",
    "datos = pd.read_csv(\"sube-2023.csv\")\n",
    "datos.head()"
   ]
  },
  {
   "cell_type": "code",
   "execution_count": 483,
   "metadata": {},
   "outputs": [],
   "source": [
    "# Primera Parte: PROCESAMIENTO DE DATOS "
   ]
  },
  {
   "cell_type": "code",
   "execution_count": 484,
   "metadata": {},
   "outputs": [
    {
     "data": {
      "text/plain": [
       "DIA_TRANSPORTE     datetime64[ns]\n",
       "NOMBRE_EMPRESA             object\n",
       "LINEA                      object\n",
       "AMBA                       object\n",
       "TIPO_TRANSPORTE            object\n",
       "JURISDICCION               object\n",
       "PROVINCIA                  object\n",
       "MUNICIPIO                  object\n",
       "CANTIDAD                    int64\n",
       "DATO_PRELIMINAR            object\n",
       "dtype: object"
      ]
     },
     "execution_count": 484,
     "metadata": {},
     "output_type": "execute_result"
    }
   ],
   "source": [
    "# 1.(a)\n",
    "\n",
    "datos.dtypes # Visualizamos el tipo de datos de cada columna (\"DIA_TRANSPORTE\" es de tipo object)\n",
    "datos[\"DIA_TRANSPORTE\"] = pd.to_datetime(datos[\"DIA_TRANSPORTE\"]) # Transformamos la columna \"DIA_TRANSPORTE\" al tipo datetime\n",
    "datos.dtypes # Volvemos a ver el tipo de datos de cada columna y ahora \"DIA_TRANSPORTE\" es tipo datetime"
   ]
  },
  {
   "cell_type": "code",
   "execution_count": 485,
   "metadata": {},
   "outputs": [],
   "source": [
    "# 1.(b)\n",
    "\n",
    "def dia_de_la_semana(fecha: datetime) -> str:\n",
    "    return fecha.strftime(\"%a\") # Función para devolver el nombre del día de la semana dado un elemento del tipo datetime \n",
    "\n",
    "def fecha_ordinal(fecha: datetime) -> int:\n",
    "    return int(fecha.strftime(\"%d\")) # Función para devolver el cardinal de la fecha dado un elemento del tipo datetime \n",
    "\n",
    "def mes_del_año(fecha: datetime) -> str:\n",
    "    return fecha.strftime(\"%m\") # Función para devolver el número del mes dado un elemento del tipo datetime \n",
    "\n",
    "# Generamos nuevas columnas y les asignamos los datos pedidos utilizando las funciones de arriba\n",
    "\n",
    "datos[\"FECHA_DIA\"] = datos[\"DIA_TRANSPORTE\"].apply(dia_de_la_semana) \n",
    "datos[\"FECHA_ORDINAL\"] = datos[\"DIA_TRANSPORTE\"].apply(fecha_ordinal)\n",
    "datos[\"FECHA_MES\"] = datos[\"DIA_TRANSPORTE\"].apply(mes_del_año)\n"
   ]
  },
  {
   "cell_type": "code",
   "execution_count": 486,
   "metadata": {},
   "outputs": [
    {
     "name": "stderr",
     "output_type": "stream",
     "text": [
      "/var/folders/yc/m68tt0wn1mn835ws045w0rnw0000gn/T/ipykernel_769/2123657645.py:5: SettingWithCopyWarning: \n",
      "A value is trying to be set on a copy of a slice from a DataFrame\n",
      "\n",
      "See the caveats in the documentation: https://pandas.pydata.org/pandas-docs/stable/user_guide/indexing.html#returning-a-view-versus-a-copy\n",
      "  datos_amba.drop(columnas_a_eliminar, axis = 1, inplace = True) # Eliminamos las columnas que no aparecen en la imagen de la consigna\n"
     ]
    },
    {
     "data": {
      "text/html": [
       "<div>\n",
       "<style scoped>\n",
       "    .dataframe tbody tr th:only-of-type {\n",
       "        vertical-align: middle;\n",
       "    }\n",
       "\n",
       "    .dataframe tbody tr th {\n",
       "        vertical-align: top;\n",
       "    }\n",
       "\n",
       "    .dataframe thead th {\n",
       "        text-align: right;\n",
       "    }\n",
       "</style>\n",
       "<table border=\"1\" class=\"dataframe\">\n",
       "  <thead>\n",
       "    <tr style=\"text-align: right;\">\n",
       "      <th></th>\n",
       "      <th>fecha</th>\n",
       "      <th>fecha_dia</th>\n",
       "      <th>fecha_mes</th>\n",
       "      <th>fecha_ordinal</th>\n",
       "      <th>jurisdiccion</th>\n",
       "      <th>linea</th>\n",
       "      <th>pasajeros</th>\n",
       "      <th>tipo_transporte</th>\n",
       "    </tr>\n",
       "  </thead>\n",
       "  <tbody>\n",
       "    <tr>\n",
       "      <th>0</th>\n",
       "      <td>2023-01-01</td>\n",
       "      <td>Sun</td>\n",
       "      <td>01</td>\n",
       "      <td>1</td>\n",
       "      <td>MUNICIPAL</td>\n",
       "      <td>1</td>\n",
       "      <td>61</td>\n",
       "      <td>COLECTIVO</td>\n",
       "    </tr>\n",
       "    <tr>\n",
       "      <th>1</th>\n",
       "      <td>2023-01-01</td>\n",
       "      <td>Sun</td>\n",
       "      <td>01</td>\n",
       "      <td>1</td>\n",
       "      <td>MUNICIPAL</td>\n",
       "      <td>2B</td>\n",
       "      <td>11</td>\n",
       "      <td>COLECTIVO</td>\n",
       "    </tr>\n",
       "    <tr>\n",
       "      <th>3</th>\n",
       "      <td>2023-01-01</td>\n",
       "      <td>Sun</td>\n",
       "      <td>01</td>\n",
       "      <td>1</td>\n",
       "      <td>PROVINCIAL</td>\n",
       "      <td>BS_AS_LINEA_326</td>\n",
       "      <td>438</td>\n",
       "      <td>COLECTIVO</td>\n",
       "    </tr>\n",
       "    <tr>\n",
       "      <th>5</th>\n",
       "      <td>2023-01-01</td>\n",
       "      <td>Sun</td>\n",
       "      <td>01</td>\n",
       "      <td>1</td>\n",
       "      <td>MUNICIPAL</td>\n",
       "      <td>BS_AS_LINEA_514</td>\n",
       "      <td>3067</td>\n",
       "      <td>COLECTIVO</td>\n",
       "    </tr>\n",
       "    <tr>\n",
       "      <th>6</th>\n",
       "      <td>2023-01-01</td>\n",
       "      <td>Sun</td>\n",
       "      <td>01</td>\n",
       "      <td>1</td>\n",
       "      <td>MUNICIPAL</td>\n",
       "      <td>BS_AS_LINEA_522</td>\n",
       "      <td>332</td>\n",
       "      <td>COLECTIVO</td>\n",
       "    </tr>\n",
       "  </tbody>\n",
       "</table>\n",
       "</div>"
      ],
      "text/plain": [
       "       fecha fecha_dia fecha_mes  fecha_ordinal jurisdiccion            linea  \\\n",
       "0 2023-01-01       Sun        01              1    MUNICIPAL                1   \n",
       "1 2023-01-01       Sun        01              1    MUNICIPAL               2B   \n",
       "3 2023-01-01       Sun        01              1   PROVINCIAL  BS_AS_LINEA_326   \n",
       "5 2023-01-01       Sun        01              1    MUNICIPAL  BS_AS_LINEA_514   \n",
       "6 2023-01-01       Sun        01              1    MUNICIPAL  BS_AS_LINEA_522   \n",
       "\n",
       "   pasajeros tipo_transporte  \n",
       "0         61       COLECTIVO  \n",
       "1         11       COLECTIVO  \n",
       "3        438       COLECTIVO  \n",
       "5       3067       COLECTIVO  \n",
       "6        332       COLECTIVO  "
      ]
     },
     "execution_count": 486,
     "metadata": {},
     "output_type": "execute_result"
    }
   ],
   "source": [
    "# 2.\n",
    "\n",
    "datos_amba = datos[datos[\"AMBA\"] == \"SI\"] # Tomamos solo los datos de AMBA\n",
    "columnas_a_eliminar = [\"NOMBRE_EMPRESA\", \"AMBA\", \"MUNICIPIO\", \"DATO_PRELIMINAR\", \"PROVINCIA\", \"NOMBRE_EMPRESA\"] \n",
    "datos_amba.drop(columnas_a_eliminar, axis = 1, inplace = True) # Eliminamos las columnas que no aparecen en la imagen de la consigna\n",
    "nombre_de_columnas = [\"fecha\", \"fecha_dia\", \"fecha_mes\", \"fecha_ordinal\", \"jurisdiccion\", \"linea\", \"pasajeros\", \"tipo_transporte\"] \n",
    "datos_amba = datos_amba.rename(columns = {\"DIA_TRANSPORTE\" : \"fecha\", \"LINEA\" : \"linea\", \"TIPO_TRANSPORTE\" : \"tipo_transporte\", \"JURISDICCION\" : \"jurisdiccion\", \"CANTIDAD\" : \"pasajeros\", \"FECHA_DIA\" : \"fecha_dia\", \"FECHA_ORDINAL\" : \"fecha_ordinal\", \"FECHA_MES\" : \"fecha_mes\"})\n",
    "# Luego de renombrar las columnas les cambiamos el índice, de esta manera al hacer datos_amba.head() obtendremos lo mismo que se muestra en la consigna\n",
    "datos_amba = datos_amba.reindex(columns = nombre_de_columnas)\n",
    "datos_amba.head()"
   ]
  },
  {
   "cell_type": "code",
   "execution_count": 487,
   "metadata": {},
   "outputs": [
    {
     "name": "stdout",
     "output_type": "stream",
     "text": [
      "PROPORCION ANUAL DE PASAJEROS POR TRANSPORTE EN AMBA:\n",
      "Colectivo : 83.77%\n",
      "Tren : 9.42%\n",
      "Subte : 6.81%\n"
     ]
    }
   ],
   "source": [
    "# 3.(a)\n",
    "\n",
    "datos_amba[\"tipo_transporte\"].unique() # Vemos los tipos de transporte que hay en nuesto dataframe\n",
    "\n",
    "# Obtenemos dataframes separados por transporte\n",
    "\n",
    "colectivos = datos_amba[datos_amba[\"tipo_transporte\"] == \"COLECTIVO\"] \n",
    "trenes = datos_amba[datos_amba[\"tipo_transporte\"] == \"TREN\"] \n",
    "subtes = datos_amba[datos_amba[\"tipo_transporte\"] == \"SUBTE\"] \n",
    "\n",
    "# Tomamos la suma de los pasajeros por transporte y la total\n",
    "\n",
    "pasajeros_colectivos = np.sum(colectivos[\"pasajeros\"]) \n",
    "pasajeros_trenes = np.sum(trenes[\"pasajeros\"])\n",
    "pasajeros_subtes = np.sum(subtes[\"pasajeros\"])\n",
    "pasajeros_totales = np.sum(datos_amba[\"pasajeros\"])\n",
    "\n",
    "# Imprimimos el resultado de dividir la cantidad de pasajeros de cada transporte por la cantidad total, multiplicado por 100 y redondeado a dos dígitos decimales por comodidad\n",
    "\n",
    "print(\"PROPORCION ANUAL DE PASAJEROS POR TRANSPORTE EN AMBA:\")\n",
    "print(\"Colectivo : \"+str(round(pasajeros_colectivos/pasajeros_totales*100,2))+\"%\")\n",
    "print(\"Tren : \"+str(round(pasajeros_trenes/pasajeros_totales*100,2))+\"%\")\n",
    "print(\"Subte : \"+str(round((pasajeros_subtes/pasajeros_totales)*100,2))+\"%\")\n",
    " \n"
   ]
  },
  {
   "cell_type": "code",
   "execution_count": 488,
   "metadata": {},
   "outputs": [
    {
     "data": {
      "text/plain": [
       "('12', 'LINEA_B')"
      ]
     },
     "execution_count": 488,
     "metadata": {},
     "output_type": "execute_result"
    }
   ],
   "source": [
    "# 3.(b)\n",
    "\n",
    "max_cant_de_pasajeros = max(subtes[\"pasajeros\"]) \n",
    "mes = subtes.loc[subtes[\"pasajeros\"] == max_cant_de_pasajeros, \"fecha_mes\"].values[0] # Obtenemos el mes cuando hubo la cantidad máxima de pasajeros\n",
    "linea = subtes.loc[subtes[\"pasajeros\"] == max_cant_de_pasajeros, \"linea\"].values[0] # Obtenemos la línea de subte donde hubo la cantidad máxima de pasajeros\n",
    "tupla = (mes,linea) # Generamos la tupla pedida\n",
    "tupla"
   ]
  },
  {
   "cell_type": "code",
   "execution_count": 489,
   "metadata": {},
   "outputs": [
    {
     "data": {
      "text/plain": [
       "'Mon'"
      ]
     },
     "execution_count": 489,
     "metadata": {},
     "output_type": "execute_result"
    }
   ],
   "source": [
    "# 3.(c)\n",
    "\n",
    "datos_dias_habiles = datos_amba[((datos_amba[\"fecha_dia\"] != \"Sun\") & (datos_amba[\"fecha_dia\"] != \"Sat\"))] # Filtramos los datos de los días hábiles en un nuevo dataframe\n",
    "desvio_estandar = datos_dias_habiles.groupby(\"fecha_dia\")[\"pasajeros\"].std() # Utilizamos la funcion std() de python para obtener el desvío estándar de todos los días \n",
    "desvio_estandar.idxmin() # Tomamos el índice del valor mínimo con idxmin()"
   ]
  },
  {
   "cell_type": "code",
   "execution_count": 490,
   "metadata": {},
   "outputs": [],
   "source": [
    "# Segunda Parte: ANÁLISIS EXPLORATORIO"
   ]
  },
  {
   "cell_type": "code",
   "execution_count": 491,
   "metadata": {},
   "outputs": [
    {
     "data": {
      "image/png": "[encoded data removed]",
      "text/plain": [
       "<seaborn._core.plot.Plot at 0x13d67b400>"
      ]
     },
     "execution_count": 491,
     "metadata": {
      "image/png": {
       "height": 378.25,
       "width": 509.15
      }
     },
     "output_type": "execute_result"
    }
   ],
   "source": [
    "# 4.\n",
    "\n",
    "# Vamos a analizar la cantidad de pasajeros por tipo de transporte a lo largo del año, para ver si varía la proporción y tratar de obtener alguna conclusión al respécto.\n",
    "\n",
    "# Primero limpiamos los datos como hicimos en la Primera Parte para datos_amba\n",
    "\n",
    "datos_limpios = datos\n",
    "datos_limpios.drop(columnas_a_eliminar, axis = 1, inplace = True)\n",
    "datos_limpios = datos_limpios.rename(columns = {\"DIA_TRANSPORTE\" : \"fecha\", \"LINEA\" : \"linea\", \"TIPO_TRANSPORTE\" : \"tipo_transporte\", \"JURISDICCION\" : \"jurisdiccion\", \"CANTIDAD\" : \"pasajeros\", \"FECHA_DIA\" : \"fecha_dia\", \"FECHA_ORDINAL\" : \"fecha_ordinal\", \"FECHA_MES\" : \"fecha_mes\"})\n",
    "datos_limpios = datos_limpios.reindex(columns = nombre_de_columnas)\n",
    "\n",
    "# \n",
    "\n",
    "pasajeros_por_mes = datos_limpios.groupby(\"fecha_mes\")[\"pasajeros\"].sum()\n",
    "datos_analisis_exploratorio_meses = {\n",
    "    \"Meses\":[\"Ene\", \"Feb\", \"Mar\", \"Abr\", \"May\", \"Jun\", \"Jul\", \"Ago\", \"Sep\", \"Oct\", \"Nov\", \"Dic\"],\n",
    "    \"Pasajeros\":[pasajeros_por_mes[\"01\"], pasajeros_por_mes[\"02\"], pasajeros_por_mes[\"03\"], pasajeros_por_mes[\"04\"], pasajeros_por_mes[\"05\"], pasajeros_por_mes[\"06\"], pasajeros_por_mes[\"07\"], pasajeros_por_mes[\"08\"], pasajeros_por_mes[\"09\"], pasajeros_por_mes[\"10\"], pasajeros_por_mes[\"11\"], pasajeros_por_mes[\"12\"]]\n",
    "} \n",
    "\n",
    "pasajeros_por_tipo_transporte = datos_limpios.groupby(\"tipo_transporte\")[\"pasajeros\"].sum()\n",
    "datos_analisis_exploratorio_transporte = {\n",
    "    \"Transporte\":[\"Colectivo\", \"Lanchas\", \"Subte\", \"Tren\"],\n",
    "    \"Pasajeros\":[pasajeros_por_tipo_transporte[\"COLECTIVO\"], pasajeros_por_tipo_transporte[\"LANCHAS\"], pasajeros_por_tipo_transporte[\"SUBTE\"], pasajeros_por_tipo_transporte[\"TREN\"]]\n",
    "}\n",
    "\n",
    "so.Plot(data=datos_analisis_exploratorio_meses, x=\"Meses\", y=\"Pasajeros\").add(so.Bar())\n",
    "so.Plot(data=datos_analisis_exploratorio_transporte, x=\"Transporte\", y=\"Pasajeros\").add(so.Bar())"
   ]
  },
  {
   "cell_type": "code",
   "execution_count": null,
   "metadata": {},
   "outputs": [],
   "source": []
  }
 ],
 "metadata": {
  "kernelspec": {
   "display_name": "Python 3",
   "language": "python",
   "name": "python3"
  },
  "language_info": {
   "codemirror_mode": {
    "name": "ipython",
    "version": 3
   },
   "file_extension": ".py",
   "mimetype": "text/x-python",
   "name": "python",
   "nbconvert_exporter": "python",
   "pygments_lexer": "ipython3",
   "version": "3.9.6"
  }
 },
 "nbformat": 4,
 "nbformat_minor": 2
}
